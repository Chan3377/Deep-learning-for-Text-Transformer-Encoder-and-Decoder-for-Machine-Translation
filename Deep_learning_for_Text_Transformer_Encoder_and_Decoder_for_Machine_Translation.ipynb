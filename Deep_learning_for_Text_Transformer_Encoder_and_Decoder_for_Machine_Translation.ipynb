{
  "cells": [
    {
      "cell_type": "markdown",
      "metadata": {
        "id": "view-in-github",
        "colab_type": "text"
      },
      "source": [
        "<a href=\"https://colab.research.google.com/github/Chan3377/Deep-learning-for-Text-Transformer-Encoder-and-Decoder-for-Machine-Translation/blob/main/Deep_learning_for_Text_Transformer_Encoder_and_Decoder_for_Machine_Translation.ipynb\" target=\"_parent\"><img src=\"https://colab.research.google.com/assets/colab-badge.svg\" alt=\"Open In Colab\"/></a>"
      ]
    },
    {
      "cell_type": "markdown",
      "metadata": {
        "id": "aewTOa9y-K5P"
      },
      "source": [
        "## Beyond text classification: Sequence-to-sequence learning"
      ]
    },
    {
      "cell_type": "markdown",
      "metadata": {
        "id": "1BTTHYCQ-K5Q"
      },
      "source": [
        "### A machine translation example"
      ]
    },
    {
      "cell_type": "code",
      "execution_count": null,
      "metadata": {
        "colab": {
          "base_uri": "https://localhost:8080/"
        },
        "id": "F_W_g72p-K5W",
        "outputId": "8aca9aeb-d2b8-404c-b72b-9259354fca2f"
      },
      "outputs": [
        {
          "output_type": "stream",
          "name": "stdout",
          "text": [
            "--2024-01-13 09:24:04--  http://storage.googleapis.com/download.tensorflow.org/data/spa-eng.zip\n",
            "Resolving storage.googleapis.com (storage.googleapis.com)... 74.125.197.207, 74.125.135.207, 74.125.142.207, ...\n",
            "Connecting to storage.googleapis.com (storage.googleapis.com)|74.125.197.207|:80... connected.\n",
            "HTTP request sent, awaiting response... 200 OK\n",
            "Length: 2638744 (2.5M) [application/zip]\n",
            "Saving to: ‘spa-eng.zip’\n",
            "\n",
            "\rspa-eng.zip           0%[                    ]       0  --.-KB/s               \rspa-eng.zip         100%[===================>]   2.52M  --.-KB/s    in 0.01s   \n",
            "\n",
            "2024-01-13 09:24:04 (191 MB/s) - ‘spa-eng.zip’ saved [2638744/2638744]\n",
            "\n"
          ]
        }
      ],
      "source": [
        "!wget http://storage.googleapis.com/download.tensorflow.org/data/spa-eng.zip\n",
        "!unzip -q spa-eng.zip"
      ]
    },
    {
      "cell_type": "markdown",
      "source": [
        "The text file contains one example per line: an English sentence, followed by a tab\n",
        "character, followed by the corresponding Spanish sentence"
      ],
      "metadata": {
        "id": "YM2n7HBF8qLA"
      }
    },
    {
      "cell_type": "code",
      "execution_count": null,
      "metadata": {
        "id": "yfzc9L9T-K5Y"
      },
      "outputs": [],
      "source": [
        "text_file = \"spa-eng/spa.txt\"\n",
        "with open(text_file) as f:\n",
        "    lines = f.read().split(\"\\n\")[:-1]\n",
        "text_pairs = []\n",
        "# Iterate over the lines in the file\n",
        "for line in lines:\n",
        "    # Each line contains an English phrase and its Spanish translation, tab-separated\n",
        "    english, spanish = line.split(\"\\t\")\n",
        "    # prepend \"[start]\" and append \"[end]\" to the Spanish sentence\n",
        "    spanish = \"[start] \" + spanish + \" [end]\"\n",
        "    text_pairs.append((english, spanish))"
      ]
    },
    {
      "cell_type": "code",
      "execution_count": null,
      "metadata": {
        "colab": {
          "base_uri": "https://localhost:8080/"
        },
        "id": "eYW1nV26-K5Z",
        "outputId": "a3012b81-52da-46a8-bc7f-25543c992b7d"
      },
      "outputs": [
        {
          "output_type": "stream",
          "name": "stdout",
          "text": [
            "(\"Tom shouldn't have eaten so much.\", '[start] Tom no debería haber comido tanto. [end]')\n"
          ]
        }
      ],
      "source": [
        "import random\n",
        "print(random.choice(text_pairs))"
      ]
    },
    {
      "cell_type": "markdown",
      "source": [
        "Shuffle data and split them into the usual training, validation, and test sets"
      ],
      "metadata": {
        "id": "QAYDzXv08w7b"
      }
    },
    {
      "cell_type": "code",
      "execution_count": null,
      "metadata": {
        "id": "pD6gi9sN-K5f"
      },
      "outputs": [],
      "source": [
        "import random\n",
        "random.shuffle(text_pairs)\n",
        "num_val_samples = int(0.15 * len(text_pairs))\n",
        "num_train_samples = len(text_pairs) - 2 * num_val_samples\n",
        "train_pairs = text_pairs[:num_train_samples]\n",
        "val_pairs = text_pairs[num_train_samples:num_train_samples + num_val_samples]\n",
        "test_pairs = text_pairs[num_train_samples + num_val_samples:]"
      ]
    },
    {
      "cell_type": "markdown",
      "metadata": {
        "id": "6_U12Oru-K5g"
      },
      "source": [
        "**Vectorizing the English and Spanish text pairs**"
      ]
    },
    {
      "cell_type": "markdown",
      "source": [
        "Prepare two separate TextVectorization layers: one for **English** and one for **Spanish**\n",
        "- We need to preserve the **\"[start]\"** and **\"[end]\"** tokens that we’ve inserted. By\n",
        "default, the characters **[ and ]** would be stripped, but we want to keep them\n",
        "around so we can tell apart the word **“start”** and the start token **\"[start]\"**.\n",
        "- Punctuation is different from language to language! In the Spanish Text-\n",
        "Vectorization layer, if we’re going to **strip punctuation** characters, we need to\n",
        "also strip the character **¿**.\n",
        "\n",
        "Note that for a non-toy translation model, we would treat punctuation characters as separate\n",
        "tokens rather than stripping them, since we would want to be able to generate correctly\n",
        "punctuated sentences."
      ],
      "metadata": {
        "id": "nocTyDQJ87_K"
      }
    },
    {
      "cell_type": "code",
      "execution_count": null,
      "metadata": {
        "id": "AMqqw1tP-K5g"
      },
      "outputs": [],
      "source": [
        "import tensorflow as tf\n",
        "import string\n",
        "import re\n",
        "from tensorflow import keras\n",
        "from tensorflow.keras import layers\n",
        "\n",
        "# Prepare a custom string standardization function for the Spanish TextVectorization layer:\n",
        "# it preserves [ and ] but strips ¿ (as well as all other characters from strings.punctuation)\n",
        "strip_chars = string.punctuation + \"¿\"\n",
        "strip_chars = strip_chars.replace(\"[\", \"\")\n",
        "strip_chars = strip_chars.replace(\"]\", \"\")\n",
        "\n",
        "def custom_standardization(input_string):\n",
        "    lowercase = tf.strings.lower(input_string)\n",
        "    return tf.strings.regex_replace(\n",
        "        lowercase, f\"[{re.escape(strip_chars)}]\", \"\")\n",
        "\n",
        "# only look at the top 15,000 words in each language,\n",
        "# and we’ll restrict sentences to 20 words.\n",
        "vocab_size = 15000\n",
        "sequence_length = 20\n",
        "\n",
        "# The English layer\n",
        "source_vectorization = layers.TextVectorization(\n",
        "    max_tokens=vocab_size,\n",
        "    output_mode=\"int\",\n",
        "    output_sequence_length=sequence_length,\n",
        ")\n",
        "# The Spanish layer\n",
        "target_vectorization = layers.TextVectorization(\n",
        "    # Generate Spanish sentences that have one extra token,\n",
        "    # since we’ll need to offset the sentence by one step during training\n",
        "    max_tokens=vocab_size,\n",
        "    output_mode=\"int\",\n",
        "    output_sequence_length=sequence_length + 1,\n",
        "    standardize=custom_standardization,\n",
        ")\n",
        "train_english_texts = [pair[0] for pair in train_pairs]\n",
        "train_spanish_texts = [pair[1] for pair in train_pairs]\n",
        "# Learn the vocabulary of each language\n",
        "source_vectorization.adapt(train_english_texts)\n",
        "target_vectorization.adapt(train_spanish_texts)"
      ]
    },
    {
      "cell_type": "markdown",
      "metadata": {
        "id": "XWCfVBtv-K5i"
      },
      "source": [
        "**Preparing datasets for the translation task**"
      ]
    },
    {
      "cell_type": "markdown",
      "source": [
        "Turn data into a **tf.data** pipeline. We want it to return a tuple (inputs, target) where:\n",
        "\n",
        "- **inputs** is a dict with two keys, **“encoder_inputs” (the English sentence)** and **“decoder_inputs” (the Spanish sentence)**, and\n",
        "\n",
        "- **target** is the Spanish sentence offset by one step ahead"
      ],
      "metadata": {
        "id": "Ww5yC5adnRRy"
      }
    },
    {
      "cell_type": "code",
      "execution_count": null,
      "metadata": {
        "id": "Jn9y2Nib-K5n"
      },
      "outputs": [],
      "source": [
        "batch_size = 64\n",
        "\n",
        "# spa[:, :-1] - The input Spanish sentence doesn’t include the last token to keep inputs and targets at the same length\n",
        "# spa[:, 1:] - The target Spanish sentence is one step ahead. Both are still the same length (20 words)\n",
        "def format_dataset(eng, spa):\n",
        "    eng = source_vectorization(eng)\n",
        "    spa = target_vectorization(spa)\n",
        "    return ({\n",
        "        \"english\": eng,\n",
        "        \"spanish\": spa[:, :-1],\n",
        "    }, spa[:, 1:])\n",
        "\n",
        "def make_dataset(pairs):\n",
        "    eng_texts, spa_texts = zip(*pairs)\n",
        "    eng_texts = list(eng_texts)\n",
        "    spa_texts = list(spa_texts)\n",
        "    dataset = tf.data.Dataset.from_tensor_slices((eng_texts, spa_texts))\n",
        "    dataset = dataset.batch(batch_size)\n",
        "    dataset = dataset.map(format_dataset, num_parallel_calls=4)\n",
        "    # Use in-memory caching to speed up preprocessing\n",
        "    return dataset.shuffle(2048).prefetch(16).cache()\n",
        "\n",
        "train_ds = make_dataset(train_pairs)\n",
        "val_ds = make_dataset(val_pairs)"
      ]
    },
    {
      "cell_type": "code",
      "execution_count": null,
      "metadata": {
        "colab": {
          "base_uri": "https://localhost:8080/"
        },
        "id": "ujJREQjp-K5p",
        "outputId": "b7c73f0b-779e-443a-9903-435eb83459b5"
      },
      "outputs": [
        {
          "output_type": "stream",
          "name": "stdout",
          "text": [
            "inputs['english'].shape: (64, 20)\n",
            "inputs['spanish'].shape: (64, 20)\n",
            "targets.shape: (64, 20)\n"
          ]
        }
      ],
      "source": [
        "for inputs, targets in train_ds.take(1):\n",
        "    print(f\"inputs['english'].shape: {inputs['english'].shape}\")\n",
        "    print(f\"inputs['spanish'].shape: {inputs['spanish'].shape}\")\n",
        "    print(f\"targets.shape: {targets.shape}\")"
      ]
    },
    {
      "cell_type": "markdown",
      "metadata": {
        "id": "77YKMZ_n-K5p"
      },
      "source": [
        "### Sequence-to-sequence learning with RNNs"
      ]
    },
    {
      "cell_type": "markdown",
      "source": [
        "- What ***standard sequence-to-sequence models*** do is by ***reading the entire source sentence before starting to translate it***. This is especially important if you’re dealing with languages that have wildly different word ordering, like English and Japanese.\n",
        "- ***Proper sequence-to-sequence setup***:\n",
        "    - First use an ***RNN (the encoder) to turn the entire source sequence into a single vector (or set of vectors)***. This could be the last output of the RNN, or alternatively, its final internal state vectors.\n",
        "    - Then you would ***use this vector (or vectors) as the initial state of another RNN (the decoder)***, ***which would look at elements 0…N in the target sequence, and try to predict step N+1 in the target sequence.***"
      ],
      "metadata": {
        "id": "V39L_wESBOWL"
      }
    },
    {
      "cell_type": "markdown",
      "metadata": {
        "id": "pHMsIJu4-K5v"
      },
      "source": [
        "**GRU-based encoder**"
      ]
    },
    {
      "cell_type": "markdown",
      "source": [
        "- Implement this in Keras with **GRU-based encoders**:\n",
        "    - The choice of **GRU** rather than **LSTM** makes things a bit simpler,\n",
        "    - since **GRU** only has a **single state** vector, whereas **LSTM** has **multiple**."
      ],
      "metadata": {
        "id": "GC-e0A4IB0wH"
      }
    },
    {
      "cell_type": "code",
      "execution_count": null,
      "metadata": {
        "id": "4NG2k32j-K5w"
      },
      "outputs": [],
      "source": [
        "from tensorflow import keras\n",
        "from tensorflow.keras import layers\n",
        "\n",
        "embed_dim = 256\n",
        "latent_dim = 1024\n",
        "\n",
        "# The English source sentence goes here.\n",
        "# Specifying the name of the input enables us to fit() the model with a dict of inputs\n",
        "source = keras.Input(shape=(None,), dtype=\"int64\", name=\"english\")\n",
        "# mask_zero=True - mask the pad (zero)\n",
        "x = layers.Embedding(vocab_size, embed_dim, mask_zero=True)(source)\n",
        "# Encoded source sentence is the last output of a bidirectional GRU.\n",
        "encoded_source = layers.Bidirectional(\n",
        "    layers.GRU(latent_dim), merge_mode=\"sum\")(x)"
      ]
    },
    {
      "cell_type": "markdown",
      "metadata": {
        "id": "PYc-dbd4-K5w"
      },
      "source": [
        "**GRU-based decoder and the end-to-end model**"
      ]
    },
    {
      "cell_type": "markdown",
      "source": [
        "- Implement **GRU-based decoders and the end-to-end model**:\n",
        "    - a simple **GRU layer** that takes as its initial state the encoded source sentence.\n",
        "    - On top of it, add a **Dense layer** that produces for each output step a probability distribution over the Spanish vocabulary."
      ],
      "metadata": {
        "id": "UrEI_7mnCoL2"
      }
    },
    {
      "cell_type": "code",
      "execution_count": null,
      "metadata": {
        "id": "9M4I9Mlu-K5x"
      },
      "outputs": [],
      "source": [
        "# The Spanish target sentence goes here.\n",
        "past_target = keras.Input(shape=(None,), dtype=\"int64\", name=\"spanish\")\n",
        "# # mask_zero=True - mask the pad (zero)\n",
        "x = layers.Embedding(vocab_size, embed_dim, mask_zero=True)(past_target)\n",
        "decoder_gru = layers.GRU(latent_dim, return_sequences=True)\n",
        "# The encoded source sentence serves as the initial state of the decoder GRU.\n",
        "x = decoder_gru(x, initial_state=encoded_source)\n",
        "x = layers.Dropout(0.5)(x)\n",
        "# Predicts the next token\n",
        "target_next_step = layers.Dense(vocab_size, activation=\"softmax\")(x)\n",
        "# End-to-end model: maps the source sentence and the target sentence to the target sentence one step in the future\n",
        "seq2seq_rnn = keras.Model([source, past_target], target_next_step)"
      ]
    },
    {
      "cell_type": "markdown",
      "metadata": {
        "id": "EDelFyYf-K53"
      },
      "source": [
        "**Training the recurrent sequence-to-sequence model**"
      ]
    },
    {
      "cell_type": "code",
      "execution_count": null,
      "metadata": {
        "colab": {
          "base_uri": "https://localhost:8080/"
        },
        "id": "d5HVzQB8-K53",
        "outputId": "dbeae204-e773-4d0b-ae5d-0e3a7a069c53"
      },
      "outputs": [
        {
          "output_type": "stream",
          "name": "stdout",
          "text": [
            "Epoch 1/15\n",
            "1302/1302 [==============================] - 132s 90ms/step - loss: 4.6853 - accuracy: 0.3193 - val_loss: 3.8876 - val_accuracy: 0.3877\n",
            "Epoch 2/15\n",
            "1302/1302 [==============================] - 109s 84ms/step - loss: 3.7228 - accuracy: 0.4154 - val_loss: 3.2882 - val_accuracy: 0.4613\n",
            "Epoch 3/15\n",
            "1302/1302 [==============================] - 109s 83ms/step - loss: 3.2141 - accuracy: 0.4728 - val_loss: 2.8726 - val_accuracy: 0.5170\n",
            "Epoch 4/15\n",
            "1302/1302 [==============================] - 108s 83ms/step - loss: 2.8560 - accuracy: 0.5144 - val_loss: 2.6276 - val_accuracy: 0.5490\n",
            "Epoch 5/15\n",
            "1302/1302 [==============================] - 108s 83ms/step - loss: 2.5795 - accuracy: 0.5478 - val_loss: 2.4573 - val_accuracy: 0.5730\n",
            "Epoch 6/15\n",
            "1302/1302 [==============================] - 108s 83ms/step - loss: 2.3545 - accuracy: 0.5759 - val_loss: 2.3134 - val_accuracy: 0.5957\n",
            "Epoch 7/15\n",
            "1302/1302 [==============================] - 108s 83ms/step - loss: 2.1672 - accuracy: 0.6006 - val_loss: 2.2051 - val_accuracy: 0.6122\n",
            "Epoch 8/15\n",
            "1302/1302 [==============================] - 108s 83ms/step - loss: 2.0071 - accuracy: 0.6219 - val_loss: 2.1296 - val_accuracy: 0.6250\n",
            "Epoch 9/15\n",
            "1302/1302 [==============================] - 109s 84ms/step - loss: 1.8708 - accuracy: 0.6402 - val_loss: 2.0767 - val_accuracy: 0.6333\n",
            "Epoch 10/15\n",
            "1302/1302 [==============================] - 109s 83ms/step - loss: 1.7509 - accuracy: 0.6570 - val_loss: 2.0362 - val_accuracy: 0.6411\n",
            "Epoch 11/15\n",
            "1302/1302 [==============================] - 109s 84ms/step - loss: 1.6455 - accuracy: 0.6719 - val_loss: 2.0017 - val_accuracy: 0.6463\n",
            "Epoch 12/15\n",
            "1302/1302 [==============================] - 109s 84ms/step - loss: 1.5502 - accuracy: 0.6852 - val_loss: 1.9853 - val_accuracy: 0.6507\n",
            "Epoch 13/15\n",
            "1302/1302 [==============================] - 109s 84ms/step - loss: 1.4706 - accuracy: 0.6964 - val_loss: 1.9528 - val_accuracy: 0.6559\n",
            "Epoch 14/15\n",
            "1302/1302 [==============================] - 110s 84ms/step - loss: 1.3990 - accuracy: 0.7070 - val_loss: 1.9377 - val_accuracy: 0.6578\n",
            "Epoch 15/15\n",
            "1302/1302 [==============================] - 109s 83ms/step - loss: 1.3360 - accuracy: 0.7161 - val_loss: 1.9232 - val_accuracy: 0.6609\n"
          ]
        },
        {
          "output_type": "execute_result",
          "data": {
            "text/plain": [
              "<keras.src.callbacks.History at 0x7afb0425ead0>"
            ]
          },
          "metadata": {},
          "execution_count": 10
        }
      ],
      "source": [
        "seq2seq_rnn.compile(\n",
        "    optimizer=\"rmsprop\",\n",
        "    loss=\"sparse_categorical_crossentropy\",\n",
        "    metrics=[\"accuracy\"])\n",
        "seq2seq_rnn.fit(train_ds, epochs=15, validation_data=val_ds)"
      ]
    },
    {
      "cell_type": "markdown",
      "metadata": {
        "id": "Wc-twSc0-K54"
      },
      "source": [
        "**Translating new sentences with our RNN encoder and decoder**"
      ]
    },
    {
      "cell_type": "markdown",
      "source": [
        "Use the model for inference.\n",
        "* Pick a few sentences in the test set and check how the model translates them.\n",
        "* Start from the seed token, \"[start]\", and feed it into the decoder model, together with the encoded English source sentence.\n",
        "* Retrieve a next token prediction, and Re-inject it into the decoder repeatedly, sampling one new target token at each iteration, until getting to the \"[end]\" or reach the maximum sentence length."
      ],
      "metadata": {
        "id": "TLAiJy6EymtF"
      }
    },
    {
      "cell_type": "code",
      "execution_count": null,
      "metadata": {
        "colab": {
          "base_uri": "https://localhost:8080/"
        },
        "id": "cW346759-K54",
        "outputId": "7321a625-d50c-4329-ae50-dc5023be954b"
      },
      "outputs": [
        {
          "output_type": "stream",
          "name": "stdout",
          "text": [
            "-\n",
            "We saw nothing strange.\n",
            "1/1 [==============================] - 3s 3s/step\n",
            "1/1 [==============================] - 0s 22ms/step\n",
            "1/1 [==============================] - 0s 22ms/step\n",
            "1/1 [==============================] - 0s 24ms/step\n",
            "1/1 [==============================] - 0s 28ms/step\n",
            "[start] vimos nada sin decir [end]\n",
            "-\n",
            "His mother didn't allow him to ride a motorbike.\n",
            "1/1 [==============================] - 0s 22ms/step\n",
            "1/1 [==============================] - 0s 23ms/step\n",
            "1/1 [==============================] - 0s 22ms/step\n",
            "1/1 [==============================] - 0s 24ms/step\n",
            "1/1 [==============================] - 0s 22ms/step\n",
            "1/1 [==============================] - 0s 22ms/step\n",
            "1/1 [==============================] - 0s 22ms/step\n",
            "1/1 [==============================] - 0s 23ms/step\n",
            "1/1 [==============================] - 0s 22ms/step\n",
            "[start] su madre no fue capaz de un [UNK] [end]\n",
            "-\n",
            "He ran outside naked.\n",
            "1/1 [==============================] - 0s 22ms/step\n",
            "1/1 [==============================] - 0s 21ms/step\n",
            "1/1 [==============================] - 0s 23ms/step\n",
            "1/1 [==============================] - 0s 21ms/step\n",
            "1/1 [==============================] - 0s 21ms/step\n",
            "[start] Él se quedó corriendo [end]\n",
            "-\n",
            "Nobody understands me.\n",
            "1/1 [==============================] - 0s 21ms/step\n",
            "1/1 [==============================] - 0s 21ms/step\n",
            "1/1 [==============================] - 0s 21ms/step\n",
            "1/1 [==============================] - 0s 21ms/step\n",
            "[start] nadie me entiende [end]\n",
            "-\n",
            "Which did you eat, fish or meat?\n",
            "1/1 [==============================] - 0s 21ms/step\n",
            "1/1 [==============================] - 0s 22ms/step\n",
            "1/1 [==============================] - 0s 21ms/step\n",
            "1/1 [==============================] - 0s 22ms/step\n",
            "1/1 [==============================] - 0s 23ms/step\n",
            "1/1 [==============================] - 0s 22ms/step\n",
            "[start] qué comiste pescado o carne [end]\n",
            "-\n",
            "I don't like to drink coffee.\n",
            "1/1 [==============================] - 0s 24ms/step\n",
            "1/1 [==============================] - 0s 22ms/step\n",
            "1/1 [==============================] - 0s 26ms/step\n",
            "1/1 [==============================] - 0s 21ms/step\n",
            "1/1 [==============================] - 0s 22ms/step\n",
            "1/1 [==============================] - 0s 21ms/step\n",
            "[start] no me gusta el café [end]\n",
            "-\n",
            "She sat down and crossed her legs.\n",
            "1/1 [==============================] - 0s 26ms/step\n",
            "1/1 [==============================] - 0s 21ms/step\n",
            "1/1 [==============================] - 0s 21ms/step\n",
            "1/1 [==============================] - 0s 22ms/step\n",
            "1/1 [==============================] - 0s 26ms/step\n",
            "1/1 [==============================] - 0s 22ms/step\n",
            "1/1 [==============================] - 0s 36ms/step\n",
            "1/1 [==============================] - 0s 33ms/step\n",
            "[start] se sentó y se [UNK] los ojos [end]\n",
            "-\n",
            "It is completely natural for her to be mad.\n",
            "1/1 [==============================] - 0s 35ms/step\n",
            "1/1 [==============================] - 0s 30ms/step\n",
            "1/1 [==============================] - 0s 30ms/step\n",
            "1/1 [==============================] - 0s 35ms/step\n",
            "1/1 [==============================] - 0s 31ms/step\n",
            "1/1 [==============================] - 0s 35ms/step\n",
            "1/1 [==============================] - 0s 31ms/step\n",
            "1/1 [==============================] - 0s 30ms/step\n",
            "1/1 [==============================] - 0s 31ms/step\n",
            "1/1 [==============================] - 0s 31ms/step\n",
            "[start] es muy [UNK] que su peso se debe estar [end]\n",
            "-\n",
            "He was in critical condition.\n",
            "1/1 [==============================] - 0s 35ms/step\n",
            "1/1 [==============================] - 0s 29ms/step\n",
            "1/1 [==============================] - 0s 31ms/step\n",
            "1/1 [==============================] - 0s 30ms/step\n",
            "1/1 [==============================] - 0s 31ms/step\n",
            "1/1 [==============================] - 0s 34ms/step\n",
            "[start] Él estaba en la [UNK] [end]\n",
            "-\n",
            "He kept me waiting on purpose.\n",
            "1/1 [==============================] - 0s 34ms/step\n",
            "1/1 [==============================] - 0s 30ms/step\n",
            "1/1 [==============================] - 0s 31ms/step\n",
            "1/1 [==============================] - 0s 36ms/step\n",
            "1/1 [==============================] - 0s 33ms/step\n",
            "1/1 [==============================] - 0s 32ms/step\n",
            "1/1 [==============================] - 0s 31ms/step\n",
            "[start] Él me hizo esperando a propósito [end]\n",
            "-\n",
            "Fill in this form.\n",
            "1/1 [==============================] - 0s 38ms/step\n",
            "1/1 [==============================] - 0s 23ms/step\n",
            "1/1 [==============================] - 0s 21ms/step\n",
            "1/1 [==============================] - 0s 24ms/step\n",
            "[start] ponte este formulario [end]\n",
            "-\n",
            "The older we grow, the poorer our memory becomes.\n",
            "1/1 [==============================] - 0s 22ms/step\n",
            "1/1 [==============================] - 0s 25ms/step\n",
            "1/1 [==============================] - 0s 23ms/step\n",
            "1/1 [==============================] - 0s 23ms/step\n",
            "1/1 [==============================] - 0s 22ms/step\n",
            "1/1 [==============================] - 0s 22ms/step\n",
            "1/1 [==============================] - 0s 29ms/step\n",
            "1/1 [==============================] - 0s 22ms/step\n",
            "1/1 [==============================] - 0s 23ms/step\n",
            "1/1 [==============================] - 0s 22ms/step\n",
            "[start] los jóvenes empeora más que nos [UNK] los muebles [end]\n",
            "-\n",
            "He was in the process of making a final decision.\n",
            "1/1 [==============================] - 0s 23ms/step\n",
            "1/1 [==============================] - 0s 23ms/step\n",
            "1/1 [==============================] - 0s 22ms/step\n",
            "1/1 [==============================] - 0s 22ms/step\n",
            "1/1 [==============================] - 0s 22ms/step\n",
            "1/1 [==============================] - 0s 23ms/step\n",
            "1/1 [==============================] - 0s 23ms/step\n",
            "1/1 [==============================] - 0s 23ms/step\n",
            "1/1 [==============================] - 0s 24ms/step\n",
            "1/1 [==============================] - 0s 22ms/step\n",
            "1/1 [==============================] - 0s 24ms/step\n",
            "1/1 [==============================] - 0s 23ms/step\n",
            "1/1 [==============================] - 0s 24ms/step\n",
            "[start] Él estaba en la misma parte de hacer una decisión de tiempo [end]\n",
            "-\n",
            "Do you really want me to do that?\n",
            "1/1 [==============================] - 0s 23ms/step\n",
            "1/1 [==============================] - 0s 23ms/step\n",
            "1/1 [==============================] - 0s 22ms/step\n",
            "1/1 [==============================] - 0s 21ms/step\n",
            "1/1 [==============================] - 0s 23ms/step\n",
            "1/1 [==============================] - 0s 22ms/step\n",
            "1/1 [==============================] - 0s 26ms/step\n",
            "[start] de verdad quieres que haga eso [end]\n",
            "-\n",
            "Seven is believed to be a lucky number.\n",
            "1/1 [==============================] - 0s 22ms/step\n",
            "1/1 [==============================] - 0s 22ms/step\n",
            "1/1 [==============================] - 0s 21ms/step\n",
            "1/1 [==============================] - 0s 22ms/step\n",
            "1/1 [==============================] - 0s 22ms/step\n",
            "1/1 [==============================] - 0s 24ms/step\n",
            "1/1 [==============================] - 0s 22ms/step\n",
            "1/1 [==============================] - 0s 25ms/step\n",
            "1/1 [==============================] - 0s 22ms/step\n",
            "[start] la [UNK] es un número de su número [end]\n",
            "-\n",
            "The river overflowed.\n",
            "1/1 [==============================] - 0s 21ms/step\n",
            "1/1 [==============================] - 0s 20ms/step\n",
            "1/1 [==============================] - 0s 21ms/step\n",
            "1/1 [==============================] - 0s 21ms/step\n",
            "1/1 [==============================] - 0s 22ms/step\n",
            "[start] el río se [UNK] [end]\n",
            "-\n",
            "Get me a lawyer.\n",
            "1/1 [==============================] - 0s 24ms/step\n",
            "1/1 [==============================] - 0s 22ms/step\n",
            "1/1 [==============================] - 0s 21ms/step\n",
            "1/1 [==============================] - 0s 21ms/step\n",
            "[start] consígueme un abogado [end]\n",
            "-\n",
            "You should have kept it secret.\n",
            "1/1 [==============================] - 0s 23ms/step\n",
            "1/1 [==============================] - 0s 24ms/step\n",
            "1/1 [==============================] - 0s 22ms/step\n",
            "1/1 [==============================] - 0s 22ms/step\n",
            "1/1 [==============================] - 0s 22ms/step\n",
            "1/1 [==============================] - 0s 22ms/step\n",
            "[start] deberías haber hecho el secreto [end]\n",
            "-\n",
            "It's important for today's young people to study English.\n",
            "1/1 [==============================] - 0s 24ms/step\n",
            "1/1 [==============================] - 0s 22ms/step\n",
            "1/1 [==============================] - 0s 24ms/step\n",
            "1/1 [==============================] - 0s 22ms/step\n",
            "1/1 [==============================] - 0s 22ms/step\n",
            "1/1 [==============================] - 0s 22ms/step\n",
            "1/1 [==============================] - 0s 22ms/step\n",
            "1/1 [==============================] - 0s 30ms/step\n",
            "1/1 [==============================] - 0s 25ms/step\n",
            "[start] es importante que el año pasado inglés inglés [end]\n",
            "-\n",
            "Does he have any brothers?\n",
            "1/1 [==============================] - 0s 22ms/step\n",
            "1/1 [==============================] - 0s 22ms/step\n",
            "1/1 [==============================] - 0s 21ms/step\n",
            "1/1 [==============================] - 0s 25ms/step\n",
            "[start] tiene hermanos hermanos [end]\n"
          ]
        }
      ],
      "source": [
        "import numpy as np\n",
        "# Prepare a dict to convert token index predictions to string tokens\n",
        "spa_vocab = target_vectorization.get_vocabulary()\n",
        "spa_index_lookup = dict(zip(range(len(spa_vocab)), spa_vocab))\n",
        "max_decoded_sentence_length = 20\n",
        "\n",
        "def decode_sequence(input_sentence):\n",
        "    tokenized_input_sentence = source_vectorization([input_sentence])\n",
        "    # seed token\n",
        "    decoded_sentence = \"[start]\"\n",
        "    for i in range(max_decoded_sentence_length):\n",
        "        tokenized_target_sentence = target_vectorization([decoded_sentence])\n",
        "        # sample the next token\n",
        "        next_token_predictions = seq2seq_rnn.predict(\n",
        "            [tokenized_input_sentence, tokenized_target_sentence])\n",
        "        sampled_token_index = np.argmax(next_token_predictions[0, i, :])\n",
        "        # Convert the next token prediction to a string and append it to the generated sentence.\n",
        "        sampled_token = spa_index_lookup[sampled_token_index]\n",
        "        decoded_sentence += \" \" + sampled_token\n",
        "        # Exit condition: either hit max length or sample a stop character\n",
        "        if sampled_token == \"[end]\":\n",
        "            break\n",
        "    return decoded_sentence\n",
        "\n",
        "test_eng_texts = [pair[0] for pair in test_pairs]\n",
        "for _ in range(20):\n",
        "    input_sentence = random.choice(test_eng_texts)\n",
        "    print(\"-\")\n",
        "    print(input_sentence)\n",
        "    print(decode_sequence(input_sentence))"
      ]
    },
    {
      "cell_type": "markdown",
      "source": [
        "Limitation of  the the RNN approach to sequence-to-sequence learning:\n",
        "- The source sequence representation has to be held entirely in the encoder state vector(s), which\n",
        "    - puts significant limitations on the size and\n",
        "    - complexity of the sentences you can translate.\n",
        "- RNNs have trouble dealing with very long sequences, since they tend to progressively forget about the past—by the time you’ve reached the ***100th token*** in either sequence, ***little information remains about the start of the sequence***.\n",
        "    \n",
        "That means RNN-based models can’t hold onto long-term context, which can be essential for translating long documents."
      ],
      "metadata": {
        "id": "xYmnIA0tGvoS"
      }
    },
    {
      "cell_type": "markdown",
      "metadata": {
        "id": "D3nMAVrX-K56"
      },
      "source": [
        "### Sequence-to-sequence learning with Transformer"
      ]
    },
    {
      "cell_type": "markdown",
      "source": [
        "The limitations of RNN approach are what has led the machine learning community to embrace the Transformer architecture for sequence-to-sequence problems."
      ],
      "metadata": {
        "id": "nVQvR7A2HYiA"
      }
    },
    {
      "cell_type": "markdown",
      "source": [
        "- A ***sequence-to-sequence Transformer***, unlike an ***RNN***, which ***looks at its input one step at a time***, and thus will only have access to steps 0...N to generate output step N (which is token N+1 in the target sequence), ***the Transformer Decoder is order-agnostic: it looks at the entire target sequence at once.***\n",
        "    - **There is an issue here**:\n",
        "        - ***If it were allowed to use its entire input, it would simply learn to copy input step N+1 to location N in the output***. The model would thus achieve perfect training accuracy, but of course, when running inference, it would be completely useless, since input steps beyond N aren’t available.\n",
        "    - **Here to fix the issue*:***\n",
        "        - ***Mask the upper half of the pairwise attention matrix to prevent the model from paying any attention to information from the future***—only information from tokens 0...N in the target sequence should be used when generating target token N+1.\n",
        "    - To achieve this, add a ***get_causal_attention_mask(self, inputs)*** method to our ***TransformerDecoder*** to retrieve an attention mask that we can pass to our ***MultiHeadAttention*** layers."
      ],
      "metadata": {
        "id": "dGQaU6KuK62h"
      }
    },
    {
      "cell_type": "markdown",
      "metadata": {
        "id": "trnshZ7S-K57"
      },
      "source": [
        "#### The Transformer decoder"
      ]
    },
    {
      "cell_type": "markdown",
      "source": [
        "- Add a **get_causal_attention_mask(self, inputs)** method to the TransformerDecoder"
      ],
      "metadata": {
        "id": "La6_ls_0_WBJ"
      }
    },
    {
      "cell_type": "code",
      "execution_count": null,
      "metadata": {
        "id": "VA8DIby7-K57"
      },
      "outputs": [],
      "source": [
        "class TransformerDecoder(layers.Layer):\n",
        "    def __init__(self, embed_dim, dense_dim, num_heads, **kwargs):\n",
        "        super().__init__(**kwargs)\n",
        "        self.embed_dim = embed_dim\n",
        "        self.dense_dim = dense_dim\n",
        "        self.num_heads = num_heads\n",
        "        self.attention_1 = layers.MultiHeadAttention(\n",
        "            num_heads=num_heads, key_dim=embed_dim)\n",
        "        self.attention_2 = layers.MultiHeadAttention(\n",
        "            num_heads=num_heads, key_dim=embed_dim)\n",
        "        self.dense_proj = keras.Sequential(\n",
        "            [layers.Dense(dense_dim, activation=\"relu\"),\n",
        "             layers.Dense(embed_dim),]\n",
        "        )\n",
        "        self.layernorm_1 = layers.LayerNormalization()\n",
        "        self.layernorm_2 = layers.LayerNormalization()\n",
        "        self.layernorm_3 = layers.LayerNormalization()\n",
        "        # This attribute ensures that the layer will propagate its input mask to its outputs;\n",
        "        self.supports_masking = True\n",
        "\n",
        "    def get_config(self):\n",
        "        config = super().get_config()\n",
        "        config.update({\n",
        "            \"embed_dim\": self.embed_dim,\n",
        "            \"num_heads\": self.num_heads,\n",
        "            \"dense_dim\": self.dense_dim,\n",
        "        })\n",
        "        return config\n",
        "\n",
        "    def get_causal_attention_mask(self, inputs):\n",
        "        input_shape = tf.shape(inputs)\n",
        "        batch_size, sequence_length = input_shape[0], input_shape[1]\n",
        "        i = tf.range(sequence_length)[:, tf.newaxis]\n",
        "        j = tf.range(sequence_length)\n",
        "        # Generate matrix of shape (sequence_length, sequence_length) with 1s in one half and 0s in the other.\n",
        "        mask = tf.cast(i >= j, dtype=\"int32\")\n",
        "        # Replicate it along the batch axis to get a matrix of shape (batch_size, sequence_length, sequence_length)\n",
        "        mask = tf.reshape(mask, (1, input_shape[1], input_shape[1]))\n",
        "        mult = tf.concat(\n",
        "            [tf.expand_dims(batch_size, -1),\n",
        "             tf.constant([1, 1], dtype=tf.int32)], axis=0)\n",
        "        return tf.tile(mask, mult)\n",
        "\n",
        "    def call(self, inputs, encoder_outputs, mask=None):\n",
        "        # Retrieve the causal mask\n",
        "        causal_mask = self.get_causal_attention_mask(inputs)\n",
        "        # Prepare the input mask (that describes padding locations in the target sequence).\n",
        "        if mask is not None:\n",
        "            padding_mask = tf.cast(\n",
        "                mask[:, tf.newaxis, :], dtype=\"int32\")\n",
        "            # Merge the two masks together\n",
        "            padding_mask = tf.minimum(padding_mask, causal_mask)\n",
        "        else:\n",
        "            padding_mask = mask\n",
        "        # Pass the causal mask to the first attention layer,\n",
        "        # which performs self-attention over the target sequence\n",
        "        attention_output_1 = self.attention_1(\n",
        "            query=inputs,\n",
        "            value=inputs,\n",
        "            key=inputs,\n",
        "            attention_mask=causal_mask)\n",
        "        attention_output_1 = self.layernorm_1(inputs + attention_output_1)\n",
        "        # Pass the combined mask to the second attention layer,\n",
        "        # which relates the source sequence to the target sequence\n",
        "        attention_output_2 = self.attention_2(\n",
        "            query=attention_output_1,\n",
        "            value=encoder_outputs,\n",
        "            key=encoder_outputs,\n",
        "            attention_mask=padding_mask,\n",
        "        )\n",
        "        attention_output_2 = self.layernorm_2(\n",
        "            attention_output_1 + attention_output_2)\n",
        "        proj_output = self.dense_proj(attention_output_2)\n",
        "        return self.layernorm_3(attention_output_2 + proj_output)"
      ]
    },
    {
      "cell_type": "markdown",
      "metadata": {
        "id": "2hQ7hQWA-K58"
      },
      "source": [
        "### Putting it all together: A Transformer for machine translation"
      ]
    },
    {
      "cell_type": "markdown",
      "source": [
        "- The end-to-end Transformer is the model to be training. It maps the source sequence and the target sequence to the target sequence one step in the future.\n",
        "- It straightforwardly combines the pieces of:\n",
        "    - ***PositionalEmbedding*** layers,\n",
        "    - the ***TransformerEncoder***, and\n",
        "    - the ***TransformerDecoder***.\n",
        "- Note that both the ***TransformerEncoder*** and the ***TransformerDecoder*** are shape-invariant, could be ***stacking many of them to create a more powerful encoder or decoder***."
      ],
      "metadata": {
        "id": "mM6f5r7pM0BF"
      }
    },
    {
      "cell_type": "markdown",
      "metadata": {
        "id": "a89NtlOF-K59"
      },
      "source": [
        "#### PositionalEmbedding layer"
      ]
    },
    {
      "cell_type": "code",
      "execution_count": null,
      "metadata": {
        "id": "jYyt60wE-K5-"
      },
      "outputs": [],
      "source": [
        "class PositionalEmbedding(layers.Layer):\n",
        "    def __init__(self, sequence_length, input_dim, output_dim, **kwargs):\n",
        "        super().__init__(**kwargs)\n",
        "        self.token_embeddings = layers.Embedding(\n",
        "            input_dim=input_dim, output_dim=output_dim)\n",
        "        self.position_embeddings = layers.Embedding(\n",
        "            input_dim=sequence_length, output_dim=output_dim)\n",
        "        self.sequence_length = sequence_length\n",
        "        self.input_dim = input_dim\n",
        "        self.output_dim = output_dim\n",
        "\n",
        "    def call(self, inputs):\n",
        "        length = tf.shape(inputs)[-1]\n",
        "        positions = tf.range(start=0, limit=length, delta=1)\n",
        "        embedded_tokens = self.token_embeddings(inputs)\n",
        "        embedded_positions = self.position_embeddings(positions)\n",
        "        return embedded_tokens + embedded_positions\n",
        "\n",
        "    def compute_mask(self, inputs, mask=None):\n",
        "        return tf.math.not_equal(inputs, 0)\n",
        "\n",
        "    def get_config(self):\n",
        "        config = super(PositionalEmbedding, self).get_config()\n",
        "        config.update({\n",
        "            \"output_dim\": self.output_dim,\n",
        "            \"sequence_length\": self.sequence_length,\n",
        "            \"input_dim\": self.input_dim,\n",
        "        })\n",
        "        return config"
      ]
    },
    {
      "cell_type": "markdown",
      "source": [
        "#### The Transformer Encoder"
      ],
      "metadata": {
        "id": "QXf8mx-7Q_LH"
      }
    },
    {
      "cell_type": "code",
      "execution_count": null,
      "metadata": {
        "id": "2XQy3Ugs-t_f"
      },
      "outputs": [],
      "source": [
        "import tensorflow as tf\n",
        "from tensorflow import keras\n",
        "from tensorflow.keras import layers\n",
        "\n",
        "class TransformerEncoder(layers.Layer):\n",
        "    # initialize variables\n",
        "    def __init__(self, embed_dim, dense_dim, num_heads, **kwargs):\n",
        "        super().__init__(**kwargs)\n",
        "        # size of the input token vector - embedding token vector representation\n",
        "        self.embed_dim = embed_dim\n",
        "        # size of the inner dense layer - use for dense projection\n",
        "        self.dense_dim = dense_dim\n",
        "        # number of attention heads\n",
        "        self.num_heads = num_heads\n",
        "\n",
        "        # initialize multi-head attention\n",
        "        self.attention = layers.MultiHeadAttention(\n",
        "            num_heads=num_heads, key_dim=embed_dim)\n",
        "        # dense projection - independently learned linear projections\n",
        "        self.dense_proj = keras.Sequential(\n",
        "            [layers.Dense(dense_dim, activation=\"relu\"),\n",
        "             layers.Dense(embed_dim),]\n",
        "        )\n",
        "\n",
        "        # layer normalization - help gradients flow better during backpropagation\n",
        "        # normalizes each sequence independently from other sequences in the batch\n",
        "        self.layernorm_1 = layers.LayerNormalization()\n",
        "        self.layernorm_2 = layers.LayerNormalization()\n",
        "\n",
        "    # computation goes in call()\n",
        "    # the call() method is called automatically when the layer is used in a Keras model\n",
        "    def call(self, inputs, mask=None):\n",
        "        # The mask that will be generated by the Embedding layer will be 2D,\n",
        "        # but the attention layer expects to be 3D or 4D, so we expand its rank\n",
        "        if mask is not None:\n",
        "            mask = mask[:, tf.newaxis, :]\n",
        "        attention_output = self.attention(\n",
        "            inputs, inputs, attention_mask=mask)\n",
        "        proj_input = self.layernorm_1(inputs + attention_output)\n",
        "        proj_output = self.dense_proj(proj_input)\n",
        "        return self.layernorm_2(proj_input + proj_output)\n",
        "\n",
        "    # implement serialization so we can save the model\n",
        "    # get_config method: this enables the layer to be reinstantiated from its config dict,\n",
        "    # which is useful during model saving and loading.\n",
        "    def get_config(self):\n",
        "        config = super().get_config()\n",
        "        config.update({\n",
        "            \"embed_dim\": self.embed_dim,\n",
        "            \"num_heads\": self.num_heads,\n",
        "            \"dense_dim\": self.dense_dim,\n",
        "        })\n",
        "        return config"
      ]
    },
    {
      "cell_type": "markdown",
      "metadata": {
        "id": "pRVLhG81-K5-"
      },
      "source": [
        "**End-to-end Transformer**"
      ]
    },
    {
      "cell_type": "code",
      "execution_count": null,
      "metadata": {
        "id": "wv8jvR6a-K5_"
      },
      "outputs": [],
      "source": [
        "embed_dim = 256\n",
        "dense_dim = 2048\n",
        "num_heads = 8\n",
        "\n",
        "# inputs for encoder\n",
        "encoder_inputs = keras.Input(shape=(None,), dtype=\"int64\", name=\"english\")\n",
        "# process with Positional embedding before passing to TransformerEncoder class\n",
        "x = PositionalEmbedding(sequence_length, vocab_size, embed_dim)(encoder_inputs)\n",
        "# the outputs of encoder will then pass to TransformerDecoder class (Encode the source sentence)\n",
        "encoder_outputs = TransformerEncoder(embed_dim, dense_dim, num_heads)(x)\n",
        "\n",
        "# inputs for decoder\n",
        "decoder_inputs = keras.Input(shape=(None,), dtype=\"int64\", name=\"spanish\")\n",
        "# process with Positional embedding before passing to TransformerDecoder class\n",
        "x = PositionalEmbedding(sequence_length, vocab_size, embed_dim)(decoder_inputs)\n",
        "# take the decoder inputs (x) and encoder outputs (encoder_outputs)\n",
        "x = TransformerDecoder(embed_dim, dense_dim, num_heads)(x, encoder_outputs)\n",
        "x = layers.Dropout(0.5)(x)\n",
        "# Predict a word for each output position\n",
        "decoder_outputs = layers.Dense(vocab_size, activation=\"softmax\")(x)\n",
        "transformer = keras.Model([encoder_inputs, decoder_inputs], decoder_outputs)"
      ]
    },
    {
      "cell_type": "markdown",
      "metadata": {
        "id": "oZ-lzraw-K5_"
      },
      "source": [
        "**Training the sequence-to-sequence Transformer**"
      ]
    },
    {
      "cell_type": "code",
      "execution_count": null,
      "metadata": {
        "colab": {
          "base_uri": "https://localhost:8080/"
        },
        "id": "UjvBqOaV-K6A",
        "outputId": "f46bb56c-7dea-47a6-ce01-c19a22635753"
      },
      "outputs": [
        {
          "output_type": "stream",
          "name": "stdout",
          "text": [
            "Epoch 1/30\n",
            "1302/1302 [==============================] - 98s 71ms/step - loss: 3.7917 - accuracy: 0.4403 - val_loss: 2.8674 - val_accuracy: 0.5389\n",
            "Epoch 2/30\n",
            "1302/1302 [==============================] - 88s 67ms/step - loss: 2.8529 - accuracy: 0.5507 - val_loss: 2.5112 - val_accuracy: 0.5926\n",
            "Epoch 3/30\n",
            "1302/1302 [==============================] - 89s 68ms/step - loss: 2.5579 - accuracy: 0.5933 - val_loss: 2.3618 - val_accuracy: 0.6178\n",
            "Epoch 4/30\n",
            "1302/1302 [==============================] - 88s 68ms/step - loss: 2.3968 - accuracy: 0.6195 - val_loss: 2.3685 - val_accuracy: 0.6196\n",
            "Epoch 5/30\n",
            "1302/1302 [==============================] - 89s 68ms/step - loss: 2.2934 - accuracy: 0.6381 - val_loss: 2.2822 - val_accuracy: 0.6340\n",
            "Epoch 6/30\n",
            "1302/1302 [==============================] - 89s 68ms/step - loss: 2.2206 - accuracy: 0.6512 - val_loss: 2.3514 - val_accuracy: 0.6316\n",
            "Epoch 7/30\n",
            "1302/1302 [==============================] - 89s 68ms/step - loss: 2.1562 - accuracy: 0.6637 - val_loss: 2.2937 - val_accuracy: 0.6428\n",
            "Epoch 8/30\n",
            "1302/1302 [==============================] - 89s 68ms/step - loss: 2.0939 - accuracy: 0.6755 - val_loss: 2.2449 - val_accuracy: 0.6525\n",
            "Epoch 9/30\n",
            "1302/1302 [==============================] - 89s 68ms/step - loss: 2.0353 - accuracy: 0.6864 - val_loss: 2.2346 - val_accuracy: 0.6592\n",
            "Epoch 10/30\n",
            "1302/1302 [==============================] - 89s 68ms/step - loss: 1.9897 - accuracy: 0.6946 - val_loss: 2.2647 - val_accuracy: 0.6580\n",
            "Epoch 11/30\n",
            "1302/1302 [==============================] - 89s 68ms/step - loss: 1.9534 - accuracy: 0.7015 - val_loss: 2.2459 - val_accuracy: 0.6627\n",
            "Epoch 12/30\n",
            "1302/1302 [==============================] - 89s 68ms/step - loss: 1.9174 - accuracy: 0.7081 - val_loss: 2.2788 - val_accuracy: 0.6617\n",
            "Epoch 13/30\n",
            "1302/1302 [==============================] - 89s 68ms/step - loss: 1.8924 - accuracy: 0.7126 - val_loss: 2.2541 - val_accuracy: 0.6663\n",
            "Epoch 14/30\n",
            "1302/1302 [==============================] - 89s 68ms/step - loss: 1.8671 - accuracy: 0.7173 - val_loss: 2.2668 - val_accuracy: 0.6673\n",
            "Epoch 15/30\n",
            "1302/1302 [==============================] - 89s 68ms/step - loss: 1.8481 - accuracy: 0.7204 - val_loss: 2.2599 - val_accuracy: 0.6690\n",
            "Epoch 16/30\n",
            "1302/1302 [==============================] - 89s 68ms/step - loss: 1.8291 - accuracy: 0.7248 - val_loss: 2.2706 - val_accuracy: 0.6707\n",
            "Epoch 17/30\n",
            "1302/1302 [==============================] - 90s 69ms/step - loss: 1.8116 - accuracy: 0.7283 - val_loss: 2.2874 - val_accuracy: 0.6657\n",
            "Epoch 18/30\n",
            "1302/1302 [==============================] - 90s 69ms/step - loss: 1.7970 - accuracy: 0.7306 - val_loss: 2.3246 - val_accuracy: 0.6653\n",
            "Epoch 19/30\n",
            "1302/1302 [==============================] - 89s 68ms/step - loss: 1.7787 - accuracy: 0.7341 - val_loss: 2.3220 - val_accuracy: 0.6669\n",
            "Epoch 20/30\n",
            "1302/1302 [==============================] - 89s 68ms/step - loss: 1.7648 - accuracy: 0.7362 - val_loss: 2.3230 - val_accuracy: 0.6690\n",
            "Epoch 21/30\n",
            "1302/1302 [==============================] - 89s 68ms/step - loss: 1.7480 - accuracy: 0.7399 - val_loss: 2.3254 - val_accuracy: 0.6703\n",
            "Epoch 22/30\n",
            "1302/1302 [==============================] - 89s 68ms/step - loss: 1.7350 - accuracy: 0.7417 - val_loss: 2.3267 - val_accuracy: 0.6689\n",
            "Epoch 23/30\n",
            "1302/1302 [==============================] - 87s 67ms/step - loss: 1.7224 - accuracy: 0.7442 - val_loss: 2.3530 - val_accuracy: 0.6670\n",
            "Epoch 24/30\n",
            "1302/1302 [==============================] - 89s 68ms/step - loss: 1.7089 - accuracy: 0.7468 - val_loss: 2.3689 - val_accuracy: 0.6703\n",
            "Epoch 25/30\n",
            "1302/1302 [==============================] - 89s 68ms/step - loss: 1.6951 - accuracy: 0.7492 - val_loss: 2.3944 - val_accuracy: 0.6680\n",
            "Epoch 26/30\n",
            "1302/1302 [==============================] - 89s 68ms/step - loss: 1.6808 - accuracy: 0.7517 - val_loss: 2.3814 - val_accuracy: 0.6710\n",
            "Epoch 27/30\n",
            "1302/1302 [==============================] - 88s 67ms/step - loss: 1.6670 - accuracy: 0.7540 - val_loss: 2.4093 - val_accuracy: 0.6676\n",
            "Epoch 28/30\n",
            "1302/1302 [==============================] - 89s 68ms/step - loss: 1.6571 - accuracy: 0.7559 - val_loss: 2.4078 - val_accuracy: 0.6716\n",
            "Epoch 29/30\n",
            "1302/1302 [==============================] - 89s 68ms/step - loss: 1.6429 - accuracy: 0.7581 - val_loss: 2.4525 - val_accuracy: 0.6696\n",
            "Epoch 30/30\n",
            "1302/1302 [==============================] - 89s 68ms/step - loss: 1.6320 - accuracy: 0.7606 - val_loss: 2.4175 - val_accuracy: 0.6680\n"
          ]
        },
        {
          "output_type": "execute_result",
          "data": {
            "text/plain": [
              "<keras.src.callbacks.History at 0x7afafd45d6f0>"
            ]
          },
          "metadata": {},
          "execution_count": 17
        }
      ],
      "source": [
        "transformer.compile(\n",
        "    optimizer=\"rmsprop\",\n",
        "    loss=\"sparse_categorical_crossentropy\",\n",
        "    metrics=[\"accuracy\"])\n",
        "transformer.fit(train_ds, epochs=30, validation_data=val_ds)"
      ]
    },
    {
      "cell_type": "markdown",
      "metadata": {
        "id": "Q1MZo98k-K6B"
      },
      "source": [
        "**Translating new sentences with our Transformer model**"
      ]
    },
    {
      "cell_type": "code",
      "execution_count": null,
      "metadata": {
        "colab": {
          "base_uri": "https://localhost:8080/"
        },
        "id": "j23em3rb-K6B",
        "outputId": "d00bbe99-a3e4-4db0-f4ff-c51a3fd7a377"
      },
      "outputs": [
        {
          "output_type": "stream",
          "name": "stdout",
          "text": [
            "-\n",
            "Why haven't you called?\n",
            "[start] por qué no te ha sido te llamó [end]\n",
            "-\n",
            "You need a lot of water.\n",
            "[start] necesitas mucho agua [end]\n",
            "-\n",
            "We searched everywhere.\n",
            "[start] todos los [UNK] [end]\n",
            "-\n",
            "What on earth is going on here?\n",
            "[start] qué te [UNK] hay aquí [end]\n",
            "-\n",
            "I know I'm going to learn a lot.\n",
            "[start] sé que voy a aprender mucho [end]\n",
            "-\n",
            "I remember what I saw.\n",
            "[start] recuerdo lo que vi [end]\n",
            "-\n",
            "He stood up.\n",
            "[start] se puso la cama [end]\n",
            "-\n",
            "I can't move my legs.\n",
            "[start] no puedo [UNK] [end]\n",
            "-\n",
            "Tom always says that.\n",
            "[start] tom siempre dice eso [end]\n",
            "-\n",
            "I can see what you mean.\n",
            "[start] tengo que ver lo que te [UNK] [end]\n",
            "-\n",
            "Is it still raining?\n",
            "[start] está lloviendo todavía [end]\n",
            "-\n",
            "Tom said goodnight.\n",
            "[start] tom dijo buenas noches [end]\n",
            "-\n",
            "Be still.\n",
            "[start] todavía hay [end]\n",
            "-\n",
            "I was about to suggest the same thing.\n",
            "[start] estaba a punto de [UNK] la misma cosa [end]\n",
            "-\n",
            "The lion is eating meat.\n",
            "[start] el león es una carne [end]\n",
            "-\n",
            "When I told him that, he was very much embarrassed.\n",
            "[start] cuando le dije que era casi no fuera [end]\n",
            "-\n",
            "It is going to rain.\n",
            "[start] va a llover [end]\n",
            "-\n",
            "Paraguay is a country in South America.\n",
            "[start] el campo es un país en américa [end]\n",
            "-\n",
            "He is acting on his own behalf.\n",
            "[start] está [UNK] de su propio nombre [end]\n",
            "-\n",
            "That's not Tom's fault.\n",
            "[start] no es culpa de tom [end]\n"
          ]
        }
      ],
      "source": [
        "import numpy as np\n",
        "# Prepare a dict to convert token index predictions to string tokens\n",
        "spa_vocab = target_vectorization.get_vocabulary()\n",
        "spa_index_lookup = dict(zip(range(len(spa_vocab)), spa_vocab))\n",
        "max_decoded_sentence_length = 20\n",
        "\n",
        "def decode_sequence(input_sentence):\n",
        "    tokenized_input_sentence = source_vectorization([input_sentence])\n",
        "    decoded_sentence = \"[start]\"\n",
        "    for i in range(max_decoded_sentence_length):\n",
        "        tokenized_target_sentence = target_vectorization(\n",
        "            [decoded_sentence])[:, :-1]\n",
        "        # sample the next token\n",
        "        predictions = transformer(\n",
        "            [tokenized_input_sentence, tokenized_target_sentence])\n",
        "        sampled_token_index = np.argmax(predictions[0, i, :])\n",
        "        # Convert the next token prediction to a string, and append it to the generated sentence\n",
        "        sampled_token = spa_index_lookup[sampled_token_index]\n",
        "        decoded_sentence += \" \" + sampled_token\n",
        "        # Exit condition\n",
        "        if sampled_token == \"[end]\":\n",
        "            break\n",
        "    return decoded_sentence\n",
        "\n",
        "test_eng_texts = [pair[0] for pair in test_pairs]\n",
        "for _ in range(20):\n",
        "    input_sentence = random.choice(test_eng_texts)\n",
        "    print(\"-\")\n",
        "    print(input_sentence)\n",
        "    print(decode_sequence(input_sentence))"
      ]
    }
  ],
  "metadata": {
    "colab": {
      "provenance": [],
      "gpuType": "T4",
      "toc_visible": true,
      "include_colab_link": true
    },
    "kernelspec": {
      "display_name": "Python 3",
      "name": "python3"
    },
    "language_info": {
      "codemirror_mode": {
        "name": "ipython",
        "version": 3
      },
      "file_extension": ".py",
      "mimetype": "text/x-python",
      "name": "python",
      "nbconvert_exporter": "python",
      "pygments_lexer": "ipython3",
      "version": "3.7.0"
    },
    "accelerator": "GPU"
  },
  "nbformat": 4,
  "nbformat_minor": 0
}